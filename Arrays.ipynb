{
 "cells": [
  {
   "cell_type": "markdown",
   "id": "023e5444",
   "metadata": {},
   "source": [
    "1. Two Sum (Abhinav Kochar):\n",
    "\n",
    "This Python code solves the Two Sum problem by using a hash map to achieve efficient lookup. The function twoSum takes a list of integers nums and an integer target. It initializes an empty dictionary num_map to store numbers and their corresponding indices as key-value pairs. As the loop iterates through the list, it calculates the complement of the current number (i.e., target - num). If this complement is already in num_map, it means a previous number can be added to the current number to reach the target. The function then returns the indices of the complement and the current number as a list. If the complement isn’t found, the current number and its index are added to the dictionary. This approach ensures each number is checked only once, resulting in linear time complexity."
   ]
  },
  {
   "cell_type": "code",
   "execution_count": 1,
   "id": "dad925fc",
   "metadata": {},
   "outputs": [],
   "source": [
    "class Solution(object):\n",
    "    def twoSum(self, nums, target):\n",
    "        \"\"\"\n",
    "        :type nums: List[int]\n",
    "        :type target: int\n",
    "        :rtype: List[int]\n",
    "        \"\"\"\n",
    "        num_map = {}\n",
    "\n",
    "        for i, num in enumerate(nums):\n",
    "            compliment = target - num\n",
    "            if compliment in num_map:\n",
    "                return[num_map[compliment], i]\n",
    "            num_map[num] = i"
   ]
  }
 ],
 "metadata": {
  "kernelspec": {
   "display_name": "base",
   "language": "python",
   "name": "python3"
  },
  "language_info": {
   "codemirror_mode": {
    "name": "ipython",
    "version": 3
   },
   "file_extension": ".py",
   "mimetype": "text/x-python",
   "name": "python",
   "nbconvert_exporter": "python",
   "pygments_lexer": "ipython3",
   "version": "3.12.4"
  }
 },
 "nbformat": 4,
 "nbformat_minor": 5
}
